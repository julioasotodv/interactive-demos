{
 "cells": [
  {
   "cell_type": "code",
   "execution_count": null,
   "metadata": {},
   "outputs": [],
   "source": [
    "import panel as pn\n",
    "pn.extension(\"katex\", \"mathjax\")"
   ]
  },
  {
   "cell_type": "code",
   "execution_count": null,
   "metadata": {},
   "outputs": [],
   "source": [
    "import numpy as np\n",
    "import pandas as pd\n",
    "import holoviews as hv\n",
    "from holoviews import opts, Cycle\n",
    "hv.extension('bokeh')"
   ]
  },
  {
   "cell_type": "code",
   "execution_count": null,
   "metadata": {},
   "outputs": [],
   "source": [
    "import hvplot.pandas\n",
    "from scipy import stats"
   ]
  },
  {
   "cell_type": "code",
   "execution_count": null,
   "metadata": {},
   "outputs": [],
   "source": [
    "# These names have to go out as Panel convert does not like them:\n",
    "mean_x = pn.widgets.FloatSlider(name='μ𝑥', start=-5.0, end=5.0, step=0.5, value=0)\n",
    "mean_y = pn.widgets.FloatSlider(name='μ𝑦', start=-5, end=5, step=0.5, value=0)\n",
    "\n",
    "var_x = pn.widgets.FloatSlider(name='σ²𝑥', start=1, end=15, step=0.5)\n",
    "var_y = pn.widgets.FloatSlider(name='σ²𝑦', start=1, end=15, step=0.5)\n",
    "\n",
    "cov_x_y = pn.widgets.FloatSlider(name='Cov(𝑥,𝑦)', start=-0.95, end=0.95, step=0.05, value=0)"
   ]
  },
  {
   "cell_type": "code",
   "execution_count": null,
   "metadata": {},
   "outputs": [],
   "source": [
    "from bokeh.models import Range1d\n",
    "seed = 1234\n",
    "\n",
    "def hook(plot, element):\n",
    "    plot.state.x_range = Range1d(-10, 10, bounds=\"auto\")\n",
    "    plot.state.y_range = Range1d(-10, 10, bounds=\"auto\")\n",
    "    plot.state.toolbar.active_drag = None\n",
    "    plot.state.toolbar.active_scroll = None\n",
    "\n",
    "def hook2(plot, element):\n",
    "    plot.state.x_range = Range1d(-10, 10, bounds=\"auto\")\n",
    "    plot.state.toolbar.active_drag = None\n",
    "    plot.state.toolbar.active_scroll = None\n",
    "    plot.state.yaxis.axis_line_color = None\n",
    "    plot.state.yaxis.major_tick_line_color = None\n",
    "    plot.state.yaxis.minor_tick_line_color = None\n",
    "    plot.state.yaxis.major_label_text_color = None\n",
    "    \n",
    "def hook3(plot, element):\n",
    "    plot.state.y_range = Range1d(-10, 10, bounds=\"auto\")\n",
    "    plot.state.toolbar.active_drag = None\n",
    "    plot.state.toolbar.active_scroll = None\n",
    "    plot.state.xaxis.axis_line_color = None\n",
    "    plot.state.xaxis.major_tick_line_color = None\n",
    "    plot.state.xaxis.minor_tick_line_color = None\n",
    "    plot.state.xaxis.major_label_text_color = None\n",
    "    \n",
    "@pn.depends(mean_x.param.value, mean_y.param.value, var_x.param.value, var_y.param.value, cov_x_y.param.value)\n",
    "def create_scatter(m_x, m_y, var_x, var_y, cov_x_y):\n",
    "    mvn = stats.multivariate_normal(mean=[m_x, m_y],\n",
    "                                      cov=[[var_x, cov_x_y], \n",
    "                                           [cov_x_y, var_y]])\n",
    "    sample = pd.DataFrame(mvn.rvs(size=500),\n",
    "                          columns=[\"x\", \"y\"])\n",
    "    scatter = sample.hvplot(kind=\"scatter\", x=\"x\", y=\"y\",\n",
    "                            height=400,\n",
    "                            width=600,\n",
    "                            xlim=(-10,10),\n",
    "                            ylim=(-10,10),\n",
    "                            xlabel=r\"x\",\n",
    "                            ylabel=r\"y\")\n",
    "    scatter.opts(hooks=[hook])\n",
    "    kde_x = sample.hvplot(kind=\"kde\", y=\"x\", hover=False, ylabel=\"\", xlabel=\"x\", width=600, height=125)\n",
    "    kde_x.opts(hooks=[hook2])\n",
    "    kde_y = sample.hvplot(kind=\"kde\", y=\"y\", hover=False, ylabel=\"\", xlabel=\"y\", width=125, height=400)\n",
    "    kde_y.opts(hooks=[hook3])\n",
    "    comp = scatter << kde_y << kde_x\n",
    "    comp.opts(toolbar=None)\n",
    "    return comp\n",
    "\n",
    "@pn.depends(mean_x.param.value, mean_y.param.value, var_x.param.value, var_y.param.value, cov_x_y.param.value)\n",
    "def create_latex(m_x, m_y, var_x, var_y, cov_x_y):\n",
    "    latex = pn.pane.LaTeX(r\"$\\\\mathbf{m}=\\\\begin{bmatrix} %s \\\\\\\\ %s \\\\end{bmatrix} \\\\quad \\\\mathbf{C}=\\\\begin{bmatrix}%s & %s\\\\\\\\%s & %s\\\\end{bmatrix}$\" % \n",
    "                          (round(m_x, 2), round(m_y,2), round(var_x,2), round(cov_x_y,2), round(cov_x_y,2), round(var_y,2)),\n",
    "                         style={\"text-align\":\"center\"}, sizing_mode=\"stretch_width\", renderer='katex')\n",
    "    return latex"
   ]
  },
  {
   "cell_type": "code",
   "execution_count": null,
   "metadata": {},
   "outputs": [],
   "source": [
    "widgets = pn.WidgetBox('## Parameters', mean_x, mean_y, var_x, var_y, cov_x_y, width=250)\n",
    "\n",
    "\n",
    "description = r\"\"\"The Multivariate Normal distribution, Multivariate Gaussian distribution \n",
    "or Joint Normal Distribution is a generalization of the one-dimensional (univariate) \n",
    "normal distribution to higher dimensions ($n$-dimensional).<br><br>In the example below, we have two dimensions ($x$ and $y$).\n",
    "A Multivariate Normal (commonly abbreviated as <em>MVN</em>) distribution $X$ can be completely defined by two parameters: $$X \\\\sim \\\\mathcal{N}(\\\\mathbf{m}, \\\\mathbf{C})$$\n",
    "Where $\\\\mathbf{m}$ is a $n$-dimensional <em>mean vector</em> (this is, a vector with the means for $x$ and $y$ in this example): $$\\\\mathbf{m}=\\\\begin{bmatrix} \\\\mu_x \\\\\\\\ \\\\mu_y \\\\end{bmatrix}$$\n",
    "And $\\\\mathbf{C}$ is a $n \\\\times n$ <em>covariance matrix</em> in the \n",
    "form of: $$\\\\mathbf{C}=\\\\begin{bmatrix}\\\\sigma^2_x & \\\\mathrm{Cov}(x, y) \\\\\\\\ \\\\mathrm{Cov}(y, x)  & \\\\sigma^2_y \\\\end{bmatrix}$$\n",
    "Where $\\\\sigma^2$ is the variance, and $\\\\mathrm{Cov}(x, y)$ is the covariance between the two variables. Given that $\\\\mathrm{Cov}(x, y) = \\\\mathrm{Cov}(y, x)$, \n",
    "$\\\\mathbf{C}$ is always symmetric.\"\"\""
   ]
  },
  {
   "cell_type": "code",
   "execution_count": null,
   "metadata": {},
   "outputs": [],
   "source": [
    "flexbox = pn.layout.FlexBox(*[widgets, create_scatter], justify_content=\"center\")"
   ]
  },
  {
   "cell_type": "code",
   "execution_count": null,
   "metadata": {},
   "outputs": [],
   "source": [
    "dash = pn.Column(pn.pane.Markdown(\"# The Multivariate Normal\", sizing_mode=\"stretch_width\", style={\"text-align\":\"center\"}),\n",
    "                 pn.pane.LaTeX(description, sizing_mode=\"stretch_width\", renderer='mathjax', \n",
    "                               style={\"text-align\":\"center\"},\n",
    "                               margin=(5,5,20,5)),\n",
    "                 pn.pane.Markdown(\"### Example\", sizing_mode=\"stretch_width\", style={\"text-align\":\"center\"}),\n",
    "                 create_latex,\n",
    "                 flexbox,\n",
    "                sizing_mode=\"stretch_width\")"
   ]
  },
  {
   "cell_type": "code",
   "execution_count": null,
   "metadata": {
    "scrolled": true
   },
   "outputs": [],
   "source": [
    "dash.servable()"
   ]
  },
  {
   "cell_type": "code",
   "execution_count": null,
   "metadata": {},
   "outputs": [],
   "source": []
  }
 ],
 "metadata": {
  "kernelspec": {
   "display_name": "Python [conda env:smbo]",
   "language": "python",
   "name": "conda-env-smbo-py"
  },
  "language_info": {
   "codemirror_mode": {
    "name": "ipython",
    "version": 3
   },
   "file_extension": ".py",
   "mimetype": "text/x-python",
   "name": "python",
   "nbconvert_exporter": "python",
   "pygments_lexer": "ipython3",
   "version": "3.9.13"
  }
 },
 "nbformat": 4,
 "nbformat_minor": 4
}
